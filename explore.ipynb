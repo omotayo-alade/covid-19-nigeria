{
 "cells": [
  {
   "cell_type": "code",
   "execution_count": 1,
   "metadata": {},
   "outputs": [],
   "source": [
    "# Import necessary libaries\n",
    "import pandas as pd\n",
    "import numpy as np\n",
    "from bs4 import BeautifulSoup\n",
    "from requests import get"
   ]
  },
  {
   "cell_type": "code",
   "execution_count": null,
   "metadata": {},
   "outputs": [],
   "source": [
    "# Make a request\n",
    "url = 'https://covid19.ncdc.gov.ng'\n",
    "response = get(url, headers = {\"Accept-Language\": \"en-US, en;q=0.5\"})"
   ]
  },
  {
   "cell_type": "code",
   "execution_count": null,
   "metadata": {},
   "outputs": [],
   "source": [
    "print(response.text[:500])"
   ]
  },
  {
   "cell_type": "code",
   "execution_count": null,
   "metadata": {},
   "outputs": [],
   "source": [
    "# Create a beautifulsoup object\n",
    "html_soup = BeautifulSoup(response.text, 'html.parser')\n",
    "type(html_soup)"
   ]
  },
  {
   "cell_type": "code",
   "execution_count": null,
   "metadata": {},
   "outputs": [],
   "source": [
    "# Locate table\n",
    "covid_table = html_soup.find('div', class_ = 'table-responsive')"
   ]
  },
  {
   "cell_type": "code",
   "execution_count": null,
   "metadata": {},
   "outputs": [],
   "source": [
    "# Scrape table headers and pass into a list\n",
    "table_heading = covid_table.thead.find_all('th')\n",
    "headings = []\n",
    "for th in table_heading:\n",
    "    headings.append(th.text)\n",
    "print(headings)"
   ]
  },
  {
   "cell_type": "code",
   "execution_count": null,
   "metadata": {},
   "outputs": [],
   "source": [
    "# Scrape table rows and pass into a list\n",
    "table_rows = []\n",
    "for i in covid_table.tbody.find_all('tr'):\n",
    "    table_rows.append(i.text.replace('\\n', ' ').strip())\n",
    "table_rows"
   ]
  },
  {
   "cell_type": "code",
   "execution_count": null,
   "metadata": {},
   "outputs": [],
   "source": [
    "# Format table rows for dataframe\n",
    "table_rows = [i.split() for i in table_rows]\n",
    "table_rows"
   ]
  },
  {
   "cell_type": "code",
   "execution_count": null,
   "metadata": {},
   "outputs": [],
   "source": [
    "# Join 'Akwa' and 'Ibom'\n",
    "del table_rows[27][1]\n",
    "table_rows[27][0] = 'Akwa Ibom'\n",
    "table_rows"
   ]
  },
  {
   "cell_type": "code",
   "execution_count": null,
   "metadata": {},
   "outputs": [],
   "source": [
    "# Pass table rows into data frame\n",
    "data = pd.DataFrame(table_rows)\n",
    "data.head()"
   ]
  },
  {
   "cell_type": "code",
   "execution_count": null,
   "metadata": {},
   "outputs": [],
   "source": [
    "# Set table headers from headings list\n",
    "data.columns = headings\n",
    "data.head()"
   ]
  },
  {
   "cell_type": "code",
   "execution_count": null,
   "metadata": {},
   "outputs": [],
   "source": [
    "# Remove all commas from columns\n",
    "data.replace(',','', regex=True, inplace=True)"
   ]
  },
  {
   "cell_type": "code",
   "execution_count": null,
   "metadata": {},
   "outputs": [],
   "source": [
    "col = data.select_dtypes(object).columns[1:]\n",
    "data[col] = data[col].apply(pd.to_numeric, errors='coerce')"
   ]
  },
  {
   "cell_type": "code",
   "execution_count": null,
   "metadata": {},
   "outputs": [],
   "source": [
    "data.dtypes"
   ]
  },
  {
   "cell_type": "code",
   "execution_count": null,
   "metadata": {},
   "outputs": [],
   "source": [
    "# Rename FCT to Abuja FCT\n",
    "data.loc[data['States Affected'] == 'FCT', 'States Affected'] = 'Federal Capital Territory'"
   ]
  },
  {
   "cell_type": "code",
   "execution_count": null,
   "metadata": {},
   "outputs": [],
   "source": [
    "data.columns = ['States', 'Cases', 'Infected', 'Recoveries', 'Deaths']"
   ]
  },
  {
   "cell_type": "code",
   "execution_count": null,
   "metadata": {},
   "outputs": [],
   "source": [
    "data.head(3)"
   ]
  },
  {
   "cell_type": "code",
   "execution_count": null,
   "metadata": {},
   "outputs": [],
   "source": [
    "# Export data frame to csv\n",
    "data.to_csv('covid_nigeria.csv')"
   ]
  },
  {
   "cell_type": "code",
   "execution_count": null,
   "metadata": {},
   "outputs": [],
   "source": [
    "# Import libararies for map plotting\n",
    "import geopandas as gpd\n",
    "import geoplot as gpt\n",
    "import matplotlib.pyplot as plt"
   ]
  },
  {
   "cell_type": "code",
   "execution_count": null,
   "metadata": {},
   "outputs": [],
   "source": [
    "# Load SHP files\n",
    "shp = r'shapefile/Nigeria_Poly.shp'\n",
    "shapefile = gpd.read_file(shp)"
   ]
  },
  {
   "cell_type": "code",
   "execution_count": null,
   "metadata": {},
   "outputs": [],
   "source": [
    "type(shapefile), shapefile.shape"
   ]
  },
  {
   "cell_type": "code",
   "execution_count": null,
   "metadata": {},
   "outputs": [],
   "source": [
    "shapefile.columns"
   ]
  },
  {
   "cell_type": "code",
   "execution_count": null,
   "metadata": {},
   "outputs": [],
   "source": [
    "# Drop unecassary columns\n",
    "shapefile = shapefile.drop(['id', 'country', 'name', 'enname', 'offname', 'boundary',\n",
    "       'adminlevel', 'wikidata', 'wikimedia', 'timestamp', 'note', 'path',\n",
    "       'rpath', 'iso3166_2'], axis=1)"
   ]
  },
  {
   "cell_type": "code",
   "execution_count": null,
   "metadata": {},
   "outputs": [],
   "source": [
    "shapefile.columns = ['States', 'geometry']"
   ]
  },
  {
   "cell_type": "code",
   "execution_count": null,
   "metadata": {},
   "outputs": [],
   "source": [
    "shapefile.head(2)"
   ]
  },
  {
   "cell_type": "code",
   "execution_count": null,
   "metadata": {},
   "outputs": [],
   "source": [
    "# Merge GeoDataFrame with covid statistics data\n",
    "data = shapefile.merge(data, left_on='States', right_on='States')"
   ]
  },
  {
   "cell_type": "code",
   "execution_count": null,
   "metadata": {},
   "outputs": [],
   "source": [
    "type(data), data.shape"
   ]
  },
  {
   "cell_type": "code",
   "execution_count": null,
   "metadata": {},
   "outputs": [],
   "source": [
    "data.head(2)"
   ]
  },
  {
   "cell_type": "code",
   "execution_count": null,
   "metadata": {},
   "outputs": [],
   "source": [
    "data.head(3)"
   ]
  },
  {
   "cell_type": "code",
   "execution_count": null,
   "metadata": {},
   "outputs": [],
   "source": [
    "# Define plot function\n",
    "def visual(data, hue, cmap):\n",
    "    fig, ax = plt.subplots(1, figsize=(38, 13))\n",
    "    ax.set_title('Coronavirus {} by States'.format(hue), fontdict={'fontsize': '20', 'fontweight' : '3'})\n",
    "    gpt.choropleth(data, hue=hue, cmap=cmap,\n",
    "                   legend=True,edgecolor='lightgray', linewidth=0.1,\n",
    "                   ax=ax,legend_kwargs={'aspect':30, 'fraction':0.036,'pad':0.00, 'orientation':'horizontal'});\n",
    "\n",
    "    data['coords'] = data['geometry'].apply(lambda x: x.representative_point().coords[:])\n",
    "    data['coords'] = [coords[0] for coords in data['coords']]\n",
    "\n",
    "    for idx, row in data.iterrows():\n",
    "        ax.annotate(s=row['States'], xy=row['coords'], color='black', fontsize=13, horizontalalignment='center')\n",
    "        #plt.savefig('{}.png'.format(hue))"
   ]
  },
  {
   "cell_type": "code",
   "execution_count": null,
   "metadata": {},
   "outputs": [],
   "source": [
    "# Plot geomap for cases\n",
    "visual(data, 'Cases', 'RdYlBu')"
   ]
  },
  {
   "cell_type": "code",
   "execution_count": null,
   "metadata": {},
   "outputs": [],
   "source": [
    "# Plot geomap for recoveries\n",
    "visual(data, 'Recoveries', 'Blues')"
   ]
  },
  {
   "cell_type": "code",
   "execution_count": null,
   "metadata": {},
   "outputs": [],
   "source": [
    "# Plot geomap for deaths\n",
    "visual(data, 'Deaths', 'YlGnBu')"
   ]
  },
  {
   "cell_type": "markdown",
   "metadata": {},
   "source": [
    "<h1 align='center'>Time Series Data</h1>"
   ]
  },
  {
   "cell_type": "markdown",
   "metadata": {},
   "source": [
    "<p>Download data from Johns Hopkins University (JHU) Center for Systems Science and Engineering's (CSSE) GitHub repository</p>"
   ]
  },
  {
   "cell_type": "code",
   "execution_count": null,
   "metadata": {},
   "outputs": [],
   "source": [
    "cases = 'https://raw.githubusercontent.com/CSSEGISandData/COVID-19/master/csse_covid_19_data/csse_covid_19_time_series/time_series_covid19_confirmed_global.csv'"
   ]
  },
  {
   "cell_type": "code",
   "execution_count": null,
   "metadata": {},
   "outputs": [],
   "source": [
    "recovs = 'https://raw.githubusercontent.com/CSSEGISandData/COVID-19/master/csse_covid_19_data/csse_covid_19_time_series/time_series_covid19_recovered_global.csv'"
   ]
  },
  {
   "cell_type": "code",
   "execution_count": null,
   "metadata": {},
   "outputs": [],
   "source": [
    "deaths = 'https://raw.githubusercontent.com/CSSEGISandData/COVID-19/master/csse_covid_19_data/csse_covid_19_time_series/time_series_covid19_deaths_global.csv'"
   ]
  },
  {
   "cell_type": "code",
   "execution_count": null,
   "metadata": {},
   "outputs": [],
   "source": [
    "# Read data into data frame\n",
    "df_cases = pd.read_csv(cases)\n",
    "df_recovs = pd.read_csv(recovs)\n",
    "df_deaths = pd.read_csv(deaths)"
   ]
  },
  {
   "cell_type": "code",
   "execution_count": null,
   "metadata": {},
   "outputs": [],
   "source": [
    "# Extract confirmed cases data for Nigeria\n",
    "df_cases.drop(['Province/State', 'Lat', 'Long'], axis=1, inplace=True)\n",
    "df_cases.set_index('Country/Region', inplace=True)\n",
    "df_cases = df_cases.loc['Nigeria']\n",
    "df_cases = pd.DataFrame(df_cases)\n",
    "df_cases.columns = ['Cases']"
   ]
  },
  {
   "cell_type": "code",
   "execution_count": null,
   "metadata": {},
   "outputs": [],
   "source": [
    "# Extract recoveries data for Nigeria\n",
    "df_recovs.drop(['Province/State', 'Lat', 'Long'], axis=1, inplace=True)\n",
    "df_recovs.set_index('Country/Region', inplace=True)\n",
    "df_recovs = df_recovs.loc['Nigeria']\n",
    "df_recovs = pd.DataFrame(df_recovs)\n",
    "df_recovs.columns = ['Recoveries']"
   ]
  },
  {
   "cell_type": "code",
   "execution_count": null,
   "metadata": {},
   "outputs": [],
   "source": [
    "# Extract death data for Nigeria\n",
    "df_deaths.drop(['Province/State', 'Lat', 'Long'], axis=1, inplace=True)\n",
    "df_deaths.set_index('Country/Region', inplace=True)\n",
    "df_deaths = df_deaths.loc['Nigeria']\n",
    "df_deaths = pd.DataFrame(df_deaths)\n",
    "df_deaths.columns = ['Deaths']"
   ]
  },
  {
   "cell_type": "code",
   "execution_count": null,
   "metadata": {},
   "outputs": [],
   "source": [
    "# Merge cases, recoveriies and death data into one data frame\n",
    "time_series = pd.concat([df_cases, df_recovs, df_deaths], axis=1, ignore_index=False)"
   ]
  },
  {
   "cell_type": "code",
   "execution_count": null,
   "metadata": {},
   "outputs": [],
   "source": [
    "# Rename columns\n",
    "time_series.reset_index(inplace=True)\n",
    "time_series.columns = ['Time', 'Cases', 'Recoveries', 'Deaths']"
   ]
  },
  {
   "cell_type": "code",
   "execution_count": null,
   "metadata": {},
   "outputs": [],
   "source": [
    "# Set time column type to datetime\n",
    "\n",
    "#date = pd.date_range(\"1 22 2020\", periods=time_series.shape[0], freq=\"D\", name=\"date\")\n",
    "time_series['Time'] = pd.to_datetime(time_series['Time'], errors='coerce')"
   ]
  },
  {
   "cell_type": "code",
   "execution_count": null,
   "metadata": {},
   "outputs": [],
   "source": [
    "# Make time column index of the data frame\n",
    "time_series.set_index('Time', inplace=True)"
   ]
  },
  {
   "cell_type": "code",
   "execution_count": null,
   "metadata": {},
   "outputs": [],
   "source": [
    "time_series.head()"
   ]
  },
  {
   "cell_type": "code",
   "execution_count": null,
   "metadata": {},
   "outputs": [],
   "source": [
    "# Export time series data to csv\n",
    "time_series.to_csv('time_series.csv')"
   ]
  },
  {
   "cell_type": "code",
   "execution_count": null,
   "metadata": {},
   "outputs": [],
   "source": [
    "# Import libraries for plotting\n",
    "import seaborn as sns\n",
    "from jupyterthemes import jtplot\n",
    "import matplotlib.dates as mdates"
   ]
  },
  {
   "cell_type": "code",
   "execution_count": null,
   "metadata": {},
   "outputs": [],
   "source": [
    "fig, ax = plt.subplots(figsize=(15, 6))\n",
    "jtplot.style(theme='monokai', context='notebook', fscale=1.5, spines=True)\n",
    "sns.lineplot(data=time_series, ax=ax, linewidth=4)\n",
    "ax.set_title('Cases, Recoveries and Deaths from January till date', fontdict={'fontsize': '20', 'fontweight' : '3'}, pad=20)\n",
    "ax.set_ylabel('Counts', fontdict={'fontsize': '15', 'fontweight' : '3'})\n",
    "ax.set_xlabel('Time', fontdict={'fontsize': '15', 'fontweight' : '3'})\n",
    "#ax.set_xlim(time_series.index[0])\n",
    "\n",
    "# Format x-tick labels as 3-letter month name and day number\n",
    "#ax.xaxis.set_major_formatter(mdates.DateFormatter('%b %d'))\n",
    "#ax.xaxis.set_major_locator(mdates.WeekdayLocator(interval=2))"
   ]
  },
  {
   "cell_type": "code",
   "execution_count": null,
   "metadata": {},
   "outputs": [],
   "source": []
  },
  {
   "cell_type": "code",
   "execution_count": null,
   "metadata": {},
   "outputs": [],
   "source": []
  },
  {
   "cell_type": "code",
   "execution_count": null,
   "metadata": {},
   "outputs": [],
   "source": []
  },
  {
   "cell_type": "code",
   "execution_count": null,
   "metadata": {},
   "outputs": [],
   "source": []
  }
 ],
 "metadata": {
  "kernelspec": {
   "display_name": "Python 3",
   "language": "python",
   "name": "python3"
  },
  "language_info": {
   "codemirror_mode": {
    "name": "ipython",
    "version": 3
   },
   "file_extension": ".py",
   "mimetype": "text/x-python",
   "name": "python",
   "nbconvert_exporter": "python",
   "pygments_lexer": "ipython3",
   "version": "3.7.7"
  }
 },
 "nbformat": 4,
 "nbformat_minor": 4
}
