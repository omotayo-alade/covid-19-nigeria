{
 "cells": [
  {
   "cell_type": "code",
   "execution_count": 1,
   "metadata": {},
   "outputs": [],
   "source": [
    "# Import necessary libaries\n",
    "import pandas as pd\n",
    "import numpy as np\n",
    "from bs4 import BeautifulSoup\n",
    "from requests import get"
   ]
  },
  {
   "cell_type": "code",
   "execution_count": 2,
   "metadata": {},
   "outputs": [],
   "source": [
    "# Make a request\n",
    "url = 'https://covid19.ncdc.gov.ng'\n",
    "response = get(url, headers = {\"Accept-Language\": \"en-US, en;q=0.5\"})"
   ]
  },
  {
   "cell_type": "code",
   "execution_count": 3,
   "metadata": {},
   "outputs": [
    {
     "name": "stdout",
     "output_type": "stream",
     "text": [
      "<!DOCTYPE html>\n",
      "<html lang=\"en\">\n",
      "<meta http-equiv=\"content-type\" content=\"text/html;charset=UTF-8\" />\n",
      "<head>\n",
      "<title>NCDC Coronavirus COVID-19 Microsite</title>\n",
      "<!--[if lt IE 11]>\n",
      "    \t<script src=\"https://oss.maxcdn.com/libs/html5shiv/3.7.0/html5shiv.js\"></script>\n",
      "    \t<script src=\"https://oss.maxcdn.com/libs/respond.js/1.4.2/respond.min.js\"></script>\n",
      "    \t<![endif]-->\n",
      "<meta charset=\"utf-8\">\n",
      "<meta name=\"viewport\" content=\"width=device-width, initial-scale=1.0, user-scalable=0, minimal-ui\">\n",
      "<meta\n"
     ]
    }
   ],
   "source": [
    "print(response.text[:500])"
   ]
  },
  {
   "cell_type": "code",
   "execution_count": 4,
   "metadata": {},
   "outputs": [
    {
     "data": {
      "text/plain": [
       "bs4.BeautifulSoup"
      ]
     },
     "execution_count": 4,
     "metadata": {},
     "output_type": "execute_result"
    }
   ],
   "source": [
    "# Create a beautifulsoup object\n",
    "html_soup = BeautifulSoup(response.text, 'html.parser')\n",
    "type(html_soup)"
   ]
  },
  {
   "cell_type": "code",
   "execution_count": 5,
   "metadata": {},
   "outputs": [],
   "source": [
    "# Locate table\n",
    "covid_table = html_soup.find('div', class_ = 'table-responsive')"
   ]
  },
  {
   "cell_type": "code",
   "execution_count": 6,
   "metadata": {},
   "outputs": [
    {
     "name": "stdout",
     "output_type": "stream",
     "text": [
      "['States Affected', 'No. of Cases (Lab Confirmed)', 'No. of Cases (on admission)', 'No. Discharged', 'No. of Deaths']\n"
     ]
    }
   ],
   "source": [
    "# Scrape table headers and pass into a list\n",
    "table_heading = covid_table.thead.find_all('th')\n",
    "headings = []\n",
    "for th in table_heading:\n",
    "    headings.append(th.text)\n",
    "print(headings)"
   ]
  },
  {
   "cell_type": "code",
   "execution_count": 7,
   "metadata": {},
   "outputs": [
    {
     "data": {
      "text/plain": [
       "['Lagos  6,266  5,215  970  81',\n",
       " 'FCT  1,097  792  280  25',\n",
       " 'Kano  1,025  453  522  50',\n",
       " 'Edo  478  336  117  25',\n",
       " 'Ogun  475  248  214  13',\n",
       " 'Rivers  403  202  179  22',\n",
       " 'Katsina  399  169  209  21',\n",
       " 'Oyo  398  279  112  7',\n",
       " 'Kaduna  383  140  233  10',\n",
       " 'Borno  381  150  205  26',\n",
       " 'Bauchi  374  134  230  10',\n",
       " 'Jigawa  309  148  156  5',\n",
       " 'Gombe  246  100  135  11',\n",
       " 'Delta  197  136  50  11',\n",
       " 'Ebonyi  152   82  70  0',\n",
       " 'Kwara  143  72  70  1',\n",
       " 'Plateau  130  28  99  3',\n",
       " 'Sokoto  129  13  102  14',\n",
       " 'Nasarawa  127  91  31  5',\n",
       " 'Abia  97  81  16  0',\n",
       " 'Imo  83   64  19  0',\n",
       " 'Zamfara  76  0  71  5',\n",
       " 'Yobe  52  20  25  7',\n",
       " 'Ondo  50  13  29  8',\n",
       " 'Osun  50  6  40  4',\n",
       " 'Anambra  46  42  3  1',\n",
       " 'Niger  46   19  26  1',\n",
       " 'Akwa Ibom  45  28  15  2',\n",
       " 'Kebbi  43  10  29  4',\n",
       " 'Adamawa  42  4  34  4',\n",
       " 'Enugu  35  20  14  1',\n",
       " 'Bayelsa  32  12  17  3',\n",
       " 'Ekiti  30  10  18  2',\n",
       " 'Taraba  18  8  10  0',\n",
       " 'Benue  13  12  1  0',\n",
       " 'Kogi  3  3  0  0']"
      ]
     },
     "execution_count": 7,
     "metadata": {},
     "output_type": "execute_result"
    }
   ],
   "source": [
    "# Scrape table rows and pass into a list\n",
    "table_rows = []\n",
    "for i in covid_table.tbody.find_all('tr'):\n",
    "    table_rows.append(i.text.replace('\\n', ' ').strip())\n",
    "table_rows"
   ]
  },
  {
   "cell_type": "code",
   "execution_count": 8,
   "metadata": {},
   "outputs": [
    {
     "data": {
      "text/plain": [
       "[['Lagos', '6,266', '5,215', '970', '81'],\n",
       " ['FCT', '1,097', '792', '280', '25'],\n",
       " ['Kano', '1,025', '453', '522', '50'],\n",
       " ['Edo', '478', '336', '117', '25'],\n",
       " ['Ogun', '475', '248', '214', '13'],\n",
       " ['Rivers', '403', '202', '179', '22'],\n",
       " ['Katsina', '399', '169', '209', '21'],\n",
       " ['Oyo', '398', '279', '112', '7'],\n",
       " ['Kaduna', '383', '140', '233', '10'],\n",
       " ['Borno', '381', '150', '205', '26'],\n",
       " ['Bauchi', '374', '134', '230', '10'],\n",
       " ['Jigawa', '309', '148', '156', '5'],\n",
       " ['Gombe', '246', '100', '135', '11'],\n",
       " ['Delta', '197', '136', '50', '11'],\n",
       " ['Ebonyi', '152', '82', '70', '0'],\n",
       " ['Kwara', '143', '72', '70', '1'],\n",
       " ['Plateau', '130', '28', '99', '3'],\n",
       " ['Sokoto', '129', '13', '102', '14'],\n",
       " ['Nasarawa', '127', '91', '31', '5'],\n",
       " ['Abia', '97', '81', '16', '0'],\n",
       " ['Imo', '83', '64', '19', '0'],\n",
       " ['Zamfara', '76', '0', '71', '5'],\n",
       " ['Yobe', '52', '20', '25', '7'],\n",
       " ['Ondo', '50', '13', '29', '8'],\n",
       " ['Osun', '50', '6', '40', '4'],\n",
       " ['Anambra', '46', '42', '3', '1'],\n",
       " ['Niger', '46', '19', '26', '1'],\n",
       " ['Akwa', 'Ibom', '45', '28', '15', '2'],\n",
       " ['Kebbi', '43', '10', '29', '4'],\n",
       " ['Adamawa', '42', '4', '34', '4'],\n",
       " ['Enugu', '35', '20', '14', '1'],\n",
       " ['Bayelsa', '32', '12', '17', '3'],\n",
       " ['Ekiti', '30', '10', '18', '2'],\n",
       " ['Taraba', '18', '8', '10', '0'],\n",
       " ['Benue', '13', '12', '1', '0'],\n",
       " ['Kogi', '3', '3', '0', '0']]"
      ]
     },
     "execution_count": 8,
     "metadata": {},
     "output_type": "execute_result"
    }
   ],
   "source": [
    "# Format table rows for dataframe\n",
    "table_rows = [i.split() for i in table_rows]\n",
    "table_rows"
   ]
  },
  {
   "cell_type": "code",
   "execution_count": 9,
   "metadata": {},
   "outputs": [
    {
     "data": {
      "text/plain": [
       "[['Lagos', '6,266', '5,215', '970', '81'],\n",
       " ['FCT', '1,097', '792', '280', '25'],\n",
       " ['Kano', '1,025', '453', '522', '50'],\n",
       " ['Edo', '478', '336', '117', '25'],\n",
       " ['Ogun', '475', '248', '214', '13'],\n",
       " ['Rivers', '403', '202', '179', '22'],\n",
       " ['Katsina', '399', '169', '209', '21'],\n",
       " ['Oyo', '398', '279', '112', '7'],\n",
       " ['Kaduna', '383', '140', '233', '10'],\n",
       " ['Borno', '381', '150', '205', '26'],\n",
       " ['Bauchi', '374', '134', '230', '10'],\n",
       " ['Jigawa', '309', '148', '156', '5'],\n",
       " ['Gombe', '246', '100', '135', '11'],\n",
       " ['Delta', '197', '136', '50', '11'],\n",
       " ['Ebonyi', '152', '82', '70', '0'],\n",
       " ['Kwara', '143', '72', '70', '1'],\n",
       " ['Plateau', '130', '28', '99', '3'],\n",
       " ['Sokoto', '129', '13', '102', '14'],\n",
       " ['Nasarawa', '127', '91', '31', '5'],\n",
       " ['Abia', '97', '81', '16', '0'],\n",
       " ['Imo', '83', '64', '19', '0'],\n",
       " ['Zamfara', '76', '0', '71', '5'],\n",
       " ['Yobe', '52', '20', '25', '7'],\n",
       " ['Ondo', '50', '13', '29', '8'],\n",
       " ['Osun', '50', '6', '40', '4'],\n",
       " ['Anambra', '46', '42', '3', '1'],\n",
       " ['Niger', '46', '19', '26', '1'],\n",
       " ['Akwa Ibom', '45', '28', '15', '2'],\n",
       " ['Kebbi', '43', '10', '29', '4'],\n",
       " ['Adamawa', '42', '4', '34', '4'],\n",
       " ['Enugu', '35', '20', '14', '1'],\n",
       " ['Bayelsa', '32', '12', '17', '3'],\n",
       " ['Ekiti', '30', '10', '18', '2'],\n",
       " ['Taraba', '18', '8', '10', '0'],\n",
       " ['Benue', '13', '12', '1', '0'],\n",
       " ['Kogi', '3', '3', '0', '0']]"
      ]
     },
     "execution_count": 9,
     "metadata": {},
     "output_type": "execute_result"
    }
   ],
   "source": [
    "# Join 'Akwa' and 'Ibom'\n",
    "del table_rows[27][1]\n",
    "table_rows[27][0] = 'Akwa Ibom'\n",
    "table_rows"
   ]
  },
  {
   "cell_type": "code",
   "execution_count": 10,
   "metadata": {},
   "outputs": [
    {
     "data": {
      "text/html": [
       "<div>\n",
       "<style scoped>\n",
       "    .dataframe tbody tr th:only-of-type {\n",
       "        vertical-align: middle;\n",
       "    }\n",
       "\n",
       "    .dataframe tbody tr th {\n",
       "        vertical-align: top;\n",
       "    }\n",
       "\n",
       "    .dataframe thead th {\n",
       "        text-align: right;\n",
       "    }\n",
       "</style>\n",
       "<table border=\"1\" class=\"dataframe\">\n",
       "  <thead>\n",
       "    <tr style=\"text-align: right;\">\n",
       "      <th></th>\n",
       "      <th>0</th>\n",
       "      <th>1</th>\n",
       "      <th>2</th>\n",
       "      <th>3</th>\n",
       "      <th>4</th>\n",
       "    </tr>\n",
       "  </thead>\n",
       "  <tbody>\n",
       "    <tr>\n",
       "      <th>0</th>\n",
       "      <td>Lagos</td>\n",
       "      <td>6,266</td>\n",
       "      <td>5,215</td>\n",
       "      <td>970</td>\n",
       "      <td>81</td>\n",
       "    </tr>\n",
       "    <tr>\n",
       "      <th>1</th>\n",
       "      <td>FCT</td>\n",
       "      <td>1,097</td>\n",
       "      <td>792</td>\n",
       "      <td>280</td>\n",
       "      <td>25</td>\n",
       "    </tr>\n",
       "    <tr>\n",
       "      <th>2</th>\n",
       "      <td>Kano</td>\n",
       "      <td>1,025</td>\n",
       "      <td>453</td>\n",
       "      <td>522</td>\n",
       "      <td>50</td>\n",
       "    </tr>\n",
       "    <tr>\n",
       "      <th>3</th>\n",
       "      <td>Edo</td>\n",
       "      <td>478</td>\n",
       "      <td>336</td>\n",
       "      <td>117</td>\n",
       "      <td>25</td>\n",
       "    </tr>\n",
       "    <tr>\n",
       "      <th>4</th>\n",
       "      <td>Ogun</td>\n",
       "      <td>475</td>\n",
       "      <td>248</td>\n",
       "      <td>214</td>\n",
       "      <td>13</td>\n",
       "    </tr>\n",
       "  </tbody>\n",
       "</table>\n",
       "</div>"
      ],
      "text/plain": [
       "       0      1      2    3   4\n",
       "0  Lagos  6,266  5,215  970  81\n",
       "1    FCT  1,097    792  280  25\n",
       "2   Kano  1,025    453  522  50\n",
       "3    Edo    478    336  117  25\n",
       "4   Ogun    475    248  214  13"
      ]
     },
     "execution_count": 10,
     "metadata": {},
     "output_type": "execute_result"
    }
   ],
   "source": [
    "# Pass table rows into data frame\n",
    "data = pd.DataFrame(table_rows)\n",
    "data.head()"
   ]
  },
  {
   "cell_type": "code",
   "execution_count": 11,
   "metadata": {},
   "outputs": [
    {
     "data": {
      "text/html": [
       "<div>\n",
       "<style scoped>\n",
       "    .dataframe tbody tr th:only-of-type {\n",
       "        vertical-align: middle;\n",
       "    }\n",
       "\n",
       "    .dataframe tbody tr th {\n",
       "        vertical-align: top;\n",
       "    }\n",
       "\n",
       "    .dataframe thead th {\n",
       "        text-align: right;\n",
       "    }\n",
       "</style>\n",
       "<table border=\"1\" class=\"dataframe\">\n",
       "  <thead>\n",
       "    <tr style=\"text-align: right;\">\n",
       "      <th></th>\n",
       "      <th>States Affected</th>\n",
       "      <th>No. of Cases (Lab Confirmed)</th>\n",
       "      <th>No. of Cases (on admission)</th>\n",
       "      <th>No. Discharged</th>\n",
       "      <th>No. of Deaths</th>\n",
       "    </tr>\n",
       "  </thead>\n",
       "  <tbody>\n",
       "    <tr>\n",
       "      <th>0</th>\n",
       "      <td>Lagos</td>\n",
       "      <td>6,266</td>\n",
       "      <td>5,215</td>\n",
       "      <td>970</td>\n",
       "      <td>81</td>\n",
       "    </tr>\n",
       "    <tr>\n",
       "      <th>1</th>\n",
       "      <td>FCT</td>\n",
       "      <td>1,097</td>\n",
       "      <td>792</td>\n",
       "      <td>280</td>\n",
       "      <td>25</td>\n",
       "    </tr>\n",
       "    <tr>\n",
       "      <th>2</th>\n",
       "      <td>Kano</td>\n",
       "      <td>1,025</td>\n",
       "      <td>453</td>\n",
       "      <td>522</td>\n",
       "      <td>50</td>\n",
       "    </tr>\n",
       "    <tr>\n",
       "      <th>3</th>\n",
       "      <td>Edo</td>\n",
       "      <td>478</td>\n",
       "      <td>336</td>\n",
       "      <td>117</td>\n",
       "      <td>25</td>\n",
       "    </tr>\n",
       "    <tr>\n",
       "      <th>4</th>\n",
       "      <td>Ogun</td>\n",
       "      <td>475</td>\n",
       "      <td>248</td>\n",
       "      <td>214</td>\n",
       "      <td>13</td>\n",
       "    </tr>\n",
       "  </tbody>\n",
       "</table>\n",
       "</div>"
      ],
      "text/plain": [
       "  States Affected No. of Cases (Lab Confirmed) No. of Cases (on admission)  \\\n",
       "0           Lagos                        6,266                       5,215   \n",
       "1             FCT                        1,097                         792   \n",
       "2            Kano                        1,025                         453   \n",
       "3             Edo                          478                         336   \n",
       "4            Ogun                          475                         248   \n",
       "\n",
       "  No. Discharged No. of Deaths  \n",
       "0            970            81  \n",
       "1            280            25  \n",
       "2            522            50  \n",
       "3            117            25  \n",
       "4            214            13  "
      ]
     },
     "execution_count": 11,
     "metadata": {},
     "output_type": "execute_result"
    }
   ],
   "source": [
    "# Set table headers from headings list\n",
    "data.columns = headings\n",
    "data.head()"
   ]
  },
  {
   "cell_type": "code",
   "execution_count": 12,
   "metadata": {},
   "outputs": [],
   "source": [
    "# Remove all commas from columns\n",
    "data.replace(',','', regex=True, inplace=True)"
   ]
  },
  {
   "cell_type": "code",
   "execution_count": 13,
   "metadata": {},
   "outputs": [],
   "source": [
    "col = data.select_dtypes(object).columns[1:]\n",
    "data[col] = data[col].apply(pd.to_numeric, errors='coerce')"
   ]
  },
  {
   "cell_type": "code",
   "execution_count": 14,
   "metadata": {},
   "outputs": [
    {
     "data": {
      "text/plain": [
       "States Affected                 object\n",
       "No. of Cases (Lab Confirmed)     int64\n",
       "No. of Cases (on admission)      int64\n",
       "No. Discharged                   int64\n",
       "No. of Deaths                    int64\n",
       "dtype: object"
      ]
     },
     "execution_count": 14,
     "metadata": {},
     "output_type": "execute_result"
    }
   ],
   "source": [
    "data.dtypes"
   ]
  },
  {
   "cell_type": "code",
   "execution_count": 15,
   "metadata": {},
   "outputs": [],
   "source": [
    "# Rename FCT to Abuja FCT\n",
    "data.loc[data['States Affected'] == 'FCT', 'States Affected'] = 'Federal Capital Territory'"
   ]
  },
  {
   "cell_type": "code",
   "execution_count": 16,
   "metadata": {},
   "outputs": [],
   "source": [
    "data.columns = ['States', 'Cases', 'Infected', 'Recoveries', 'Deaths']"
   ]
  },
  {
   "cell_type": "code",
   "execution_count": 17,
   "metadata": {},
   "outputs": [
    {
     "data": {
      "text/html": [
       "<div>\n",
       "<style scoped>\n",
       "    .dataframe tbody tr th:only-of-type {\n",
       "        vertical-align: middle;\n",
       "    }\n",
       "\n",
       "    .dataframe tbody tr th {\n",
       "        vertical-align: top;\n",
       "    }\n",
       "\n",
       "    .dataframe thead th {\n",
       "        text-align: right;\n",
       "    }\n",
       "</style>\n",
       "<table border=\"1\" class=\"dataframe\">\n",
       "  <thead>\n",
       "    <tr style=\"text-align: right;\">\n",
       "      <th></th>\n",
       "      <th>States</th>\n",
       "      <th>Cases</th>\n",
       "      <th>Infected</th>\n",
       "      <th>Recoveries</th>\n",
       "      <th>Deaths</th>\n",
       "    </tr>\n",
       "  </thead>\n",
       "  <tbody>\n",
       "    <tr>\n",
       "      <th>0</th>\n",
       "      <td>Lagos</td>\n",
       "      <td>6266</td>\n",
       "      <td>5215</td>\n",
       "      <td>970</td>\n",
       "      <td>81</td>\n",
       "    </tr>\n",
       "    <tr>\n",
       "      <th>1</th>\n",
       "      <td>Federal Capital Territory</td>\n",
       "      <td>1097</td>\n",
       "      <td>792</td>\n",
       "      <td>280</td>\n",
       "      <td>25</td>\n",
       "    </tr>\n",
       "    <tr>\n",
       "      <th>2</th>\n",
       "      <td>Kano</td>\n",
       "      <td>1025</td>\n",
       "      <td>453</td>\n",
       "      <td>522</td>\n",
       "      <td>50</td>\n",
       "    </tr>\n",
       "  </tbody>\n",
       "</table>\n",
       "</div>"
      ],
      "text/plain": [
       "                      States  Cases  Infected  Recoveries  Deaths\n",
       "0                      Lagos   6266      5215         970      81\n",
       "1  Federal Capital Territory   1097       792         280      25\n",
       "2                       Kano   1025       453         522      50"
      ]
     },
     "execution_count": 17,
     "metadata": {},
     "output_type": "execute_result"
    }
   ],
   "source": [
    "data.head(3)"
   ]
  },
  {
   "cell_type": "code",
   "execution_count": 18,
   "metadata": {},
   "outputs": [],
   "source": [
    "# Export data frame to csv\n",
    "data.to_csv('covid_nigeria.csv')"
   ]
  },
  {
   "cell_type": "code",
   "execution_count": 19,
   "metadata": {},
   "outputs": [],
   "source": [
    "# Import libararies for map plotting\n",
    "import geopandas as gpd\n",
    "import geoplot as gpt\n",
    "import matplotlib.pyplot as plt"
   ]
  },
  {
   "cell_type": "code",
   "execution_count": 20,
   "metadata": {},
   "outputs": [],
   "source": [
    "# Load SHP files\n",
    "shp = r'shapefile/Nigeria_Poly.shp'\n",
    "shapefile = gpd.read_file(shp)"
   ]
  },
  {
   "cell_type": "code",
   "execution_count": 21,
   "metadata": {},
   "outputs": [
    {
     "data": {
      "text/plain": [
       "(geopandas.geodataframe.GeoDataFrame, (37, 16))"
      ]
     },
     "execution_count": 21,
     "metadata": {},
     "output_type": "execute_result"
    }
   ],
   "source": [
    "type(shapefile), shapefile.shape"
   ]
  },
  {
   "cell_type": "code",
   "execution_count": 22,
   "metadata": {},
   "outputs": [
    {
     "data": {
      "text/plain": [
       "Index(['id', 'country', 'name', 'enname', 'locname', 'offname', 'boundary',\n",
       "       'adminlevel', 'wikidata', 'wikimedia', 'timestamp', 'note', 'path',\n",
       "       'rpath', 'iso3166_2', 'geometry'],\n",
       "      dtype='object')"
      ]
     },
     "execution_count": 22,
     "metadata": {},
     "output_type": "execute_result"
    }
   ],
   "source": [
    "shapefile.columns"
   ]
  },
  {
   "cell_type": "code",
   "execution_count": 23,
   "metadata": {},
   "outputs": [],
   "source": [
    "# Drop unecassary columns\n",
    "shapefile = shapefile.drop(['id', 'country', 'name', 'enname', 'offname', 'boundary',\n",
    "       'adminlevel', 'wikidata', 'wikimedia', 'timestamp', 'note', 'path',\n",
    "       'rpath', 'iso3166_2'], axis=1)"
   ]
  },
  {
   "cell_type": "code",
   "execution_count": 24,
   "metadata": {},
   "outputs": [],
   "source": [
    "shapefile.columns = ['States', 'geometry']"
   ]
  },
  {
   "cell_type": "code",
   "execution_count": 25,
   "metadata": {},
   "outputs": [
    {
     "data": {
      "text/html": [
       "<div>\n",
       "<style scoped>\n",
       "    .dataframe tbody tr th:only-of-type {\n",
       "        vertical-align: middle;\n",
       "    }\n",
       "\n",
       "    .dataframe tbody tr th {\n",
       "        vertical-align: top;\n",
       "    }\n",
       "\n",
       "    .dataframe thead th {\n",
       "        text-align: right;\n",
       "    }\n",
       "</style>\n",
       "<table border=\"1\" class=\"dataframe\">\n",
       "  <thead>\n",
       "    <tr style=\"text-align: right;\">\n",
       "      <th></th>\n",
       "      <th>States</th>\n",
       "      <th>geometry</th>\n",
       "    </tr>\n",
       "  </thead>\n",
       "  <tbody>\n",
       "    <tr>\n",
       "      <th>0</th>\n",
       "      <td>Abia</td>\n",
       "      <td>POLYGON ((7.14043 4.90063, 7.14377 4.91320, 7....</td>\n",
       "    </tr>\n",
       "    <tr>\n",
       "      <th>1</th>\n",
       "      <td>Adamawa</td>\n",
       "      <td>POLYGON ((11.34152 8.01867, 11.34154 8.02210, ...</td>\n",
       "    </tr>\n",
       "  </tbody>\n",
       "</table>\n",
       "</div>"
      ],
      "text/plain": [
       "    States                                           geometry\n",
       "0     Abia  POLYGON ((7.14043 4.90063, 7.14377 4.91320, 7....\n",
       "1  Adamawa  POLYGON ((11.34152 8.01867, 11.34154 8.02210, ..."
      ]
     },
     "execution_count": 25,
     "metadata": {},
     "output_type": "execute_result"
    }
   ],
   "source": [
    "shapefile.head(2)"
   ]
  },
  {
   "cell_type": "code",
   "execution_count": 26,
   "metadata": {},
   "outputs": [],
   "source": [
    "# Merge GeoDataFrame with covid statistics data\n",
    "data = shapefile.merge(data, left_on='States', right_on='States')"
   ]
  },
  {
   "cell_type": "code",
   "execution_count": 27,
   "metadata": {},
   "outputs": [
    {
     "data": {
      "text/plain": [
       "(geopandas.geodataframe.GeoDataFrame, (36, 6))"
      ]
     },
     "execution_count": 27,
     "metadata": {},
     "output_type": "execute_result"
    }
   ],
   "source": [
    "type(data), data.shape"
   ]
  },
  {
   "cell_type": "code",
   "execution_count": 28,
   "metadata": {},
   "outputs": [
    {
     "data": {
      "text/html": [
       "<div>\n",
       "<style scoped>\n",
       "    .dataframe tbody tr th:only-of-type {\n",
       "        vertical-align: middle;\n",
       "    }\n",
       "\n",
       "    .dataframe tbody tr th {\n",
       "        vertical-align: top;\n",
       "    }\n",
       "\n",
       "    .dataframe thead th {\n",
       "        text-align: right;\n",
       "    }\n",
       "</style>\n",
       "<table border=\"1\" class=\"dataframe\">\n",
       "  <thead>\n",
       "    <tr style=\"text-align: right;\">\n",
       "      <th></th>\n",
       "      <th>States</th>\n",
       "      <th>geometry</th>\n",
       "      <th>Cases</th>\n",
       "      <th>Infected</th>\n",
       "      <th>Recoveries</th>\n",
       "      <th>Deaths</th>\n",
       "    </tr>\n",
       "  </thead>\n",
       "  <tbody>\n",
       "    <tr>\n",
       "      <th>0</th>\n",
       "      <td>Abia</td>\n",
       "      <td>POLYGON ((7.14043 4.90063, 7.14377 4.91320, 7....</td>\n",
       "      <td>97</td>\n",
       "      <td>81</td>\n",
       "      <td>16</td>\n",
       "      <td>0</td>\n",
       "    </tr>\n",
       "    <tr>\n",
       "      <th>1</th>\n",
       "      <td>Adamawa</td>\n",
       "      <td>POLYGON ((11.34152 8.01867, 11.34154 8.02210, ...</td>\n",
       "      <td>42</td>\n",
       "      <td>4</td>\n",
       "      <td>34</td>\n",
       "      <td>4</td>\n",
       "    </tr>\n",
       "  </tbody>\n",
       "</table>\n",
       "</div>"
      ],
      "text/plain": [
       "    States                                           geometry  Cases  \\\n",
       "0     Abia  POLYGON ((7.14043 4.90063, 7.14377 4.91320, 7....     97   \n",
       "1  Adamawa  POLYGON ((11.34152 8.01867, 11.34154 8.02210, ...     42   \n",
       "\n",
       "   Infected  Recoveries  Deaths  \n",
       "0        81          16       0  \n",
       "1         4          34       4  "
      ]
     },
     "execution_count": 28,
     "metadata": {},
     "output_type": "execute_result"
    }
   ],
   "source": [
    "data.head(2)"
   ]
  },
  {
   "cell_type": "code",
   "execution_count": 29,
   "metadata": {},
   "outputs": [
    {
     "data": {
      "text/html": [
       "<div>\n",
       "<style scoped>\n",
       "    .dataframe tbody tr th:only-of-type {\n",
       "        vertical-align: middle;\n",
       "    }\n",
       "\n",
       "    .dataframe tbody tr th {\n",
       "        vertical-align: top;\n",
       "    }\n",
       "\n",
       "    .dataframe thead th {\n",
       "        text-align: right;\n",
       "    }\n",
       "</style>\n",
       "<table border=\"1\" class=\"dataframe\">\n",
       "  <thead>\n",
       "    <tr style=\"text-align: right;\">\n",
       "      <th></th>\n",
       "      <th>States</th>\n",
       "      <th>geometry</th>\n",
       "      <th>Cases</th>\n",
       "      <th>Infected</th>\n",
       "      <th>Recoveries</th>\n",
       "      <th>Deaths</th>\n",
       "    </tr>\n",
       "  </thead>\n",
       "  <tbody>\n",
       "    <tr>\n",
       "      <th>0</th>\n",
       "      <td>Abia</td>\n",
       "      <td>POLYGON ((7.14043 4.90063, 7.14377 4.91320, 7....</td>\n",
       "      <td>97</td>\n",
       "      <td>81</td>\n",
       "      <td>16</td>\n",
       "      <td>0</td>\n",
       "    </tr>\n",
       "    <tr>\n",
       "      <th>1</th>\n",
       "      <td>Adamawa</td>\n",
       "      <td>POLYGON ((11.34152 8.01867, 11.34154 8.02210, ...</td>\n",
       "      <td>42</td>\n",
       "      <td>4</td>\n",
       "      <td>34</td>\n",
       "      <td>4</td>\n",
       "    </tr>\n",
       "    <tr>\n",
       "      <th>2</th>\n",
       "      <td>Akwa Ibom</td>\n",
       "      <td>MULTIPOLYGON (((8.34338 4.60775, 8.34241 4.606...</td>\n",
       "      <td>45</td>\n",
       "      <td>28</td>\n",
       "      <td>15</td>\n",
       "      <td>2</td>\n",
       "    </tr>\n",
       "  </tbody>\n",
       "</table>\n",
       "</div>"
      ],
      "text/plain": [
       "      States                                           geometry  Cases  \\\n",
       "0       Abia  POLYGON ((7.14043 4.90063, 7.14377 4.91320, 7....     97   \n",
       "1    Adamawa  POLYGON ((11.34152 8.01867, 11.34154 8.02210, ...     42   \n",
       "2  Akwa Ibom  MULTIPOLYGON (((8.34338 4.60775, 8.34241 4.606...     45   \n",
       "\n",
       "   Infected  Recoveries  Deaths  \n",
       "0        81          16       0  \n",
       "1         4          34       4  \n",
       "2        28          15       2  "
      ]
     },
     "execution_count": 29,
     "metadata": {},
     "output_type": "execute_result"
    }
   ],
   "source": [
    "data.head(3)"
   ]
  },
  {
   "cell_type": "code",
   "execution_count": 30,
   "metadata": {},
   "outputs": [],
   "source": [
    "# Define plot function\n",
    "from jupyterthemes import jtplot\n",
    "def visual(data, hue, cmap, theme):\n",
    "    #context: 'paper' (Default), 'notebook', 'talk', or 'poster'\n",
    "    #theme: 'oceans16', 'grade3', 'chesterish', 'onedork', 'monokai', 'solarizedl', 'solarizedd'\n",
    "    jtplot.style(theme=theme, context='poster', grid=True, gridlines='-', ticks=True, spines=True, fscale=1.2) #figsize=(8.0, 7.0))\n",
    "    fig, ax = plt.subplots(1, figsize=(38, 13))\n",
    "    ax.set_title('Coronavirus {} by States'.format(hue), fontdict={'fontsize': '20', 'fontweight' : '3'})\n",
    "    gpt.choropleth(data, hue=hue, cmap=cmap,\n",
    "                   legend=True,edgecolor='lightgray', linewidth=0.1,\n",
    "                   ax=ax,legend_kwargs={'aspect':30, 'fraction':0.036,'pad':0.00, 'orientation':'horizontal'});\n",
    "\n",
    "    data['coords'] = data['geometry'].apply(lambda x: x.representative_point().coords[:])\n",
    "    data['coords'] = [coords[0] for coords in data['coords']]\n",
    "\n",
    "    for idx, row in data.iterrows():\n",
    "        ax.annotate(s=row['States'], xy=row['coords'], color='black', fontsize=13, horizontalalignment='center')\n",
    "        plt.savefig('{}.png'.format(hue))"
   ]
  },
  {
   "cell_type": "code",
   "execution_count": null,
   "metadata": {},
   "outputs": [],
   "source": [
    "# Plot geomap for cases\n",
    "visual(data, 'Cases', 'RdYlBu', theme)"
   ]
  },
  {
   "cell_type": "code",
   "execution_count": null,
   "metadata": {},
   "outputs": [],
   "source": [
    "# Plot geomap for recoveries\n",
    "visual(data, 'Recoveries', 'Blues', theme)"
   ]
  },
  {
   "cell_type": "code",
   "execution_count": null,
   "metadata": {},
   "outputs": [],
   "source": [
    "# Plot geomap for deaths\n",
    "visual(data, 'Deaths', 'YlGnBu', theme)"
   ]
  },
  {
   "cell_type": "markdown",
   "metadata": {},
   "source": [
    "<h1 align='center'>Time Series Data</h1>"
   ]
  },
  {
   "cell_type": "markdown",
   "metadata": {},
   "source": [
    "<p>Download data from Johns Hopkins University (JHU) Center for Systems Science and Engineering's (CSSE) GitHub repository</p>"
   ]
  },
  {
   "cell_type": "code",
   "execution_count": 203,
   "metadata": {},
   "outputs": [],
   "source": [
    "cases = 'https://raw.githubusercontent.com/CSSEGISandData/COVID-19/master/csse_covid_19_data/csse_covid_19_time_series/time_series_covid19_confirmed_global.csv'"
   ]
  },
  {
   "cell_type": "code",
   "execution_count": 204,
   "metadata": {},
   "outputs": [],
   "source": [
    "recovs = 'https://raw.githubusercontent.com/CSSEGISandData/COVID-19/master/csse_covid_19_data/csse_covid_19_time_series/time_series_covid19_recovered_global.csv'"
   ]
  },
  {
   "cell_type": "code",
   "execution_count": 205,
   "metadata": {},
   "outputs": [],
   "source": [
    "deaths = 'https://raw.githubusercontent.com/CSSEGISandData/COVID-19/master/csse_covid_19_data/csse_covid_19_time_series/time_series_covid19_deaths_global.csv'"
   ]
  },
  {
   "cell_type": "code",
   "execution_count": 298,
   "metadata": {},
   "outputs": [],
   "source": [
    "# Read data into data frame\n",
    "df_cases = pd.read_csv(cases)\n",
    "df_recovs = pd.read_csv(recovs)\n",
    "df_deaths = pd.read_csv(deaths)"
   ]
  },
  {
   "cell_type": "code",
   "execution_count": 299,
   "metadata": {},
   "outputs": [],
   "source": [
    "# Extract confirmed cases data for Nigeria\n",
    "df_cases.drop(['Province/State', 'Lat', 'Long'], axis=1, inplace=True)\n",
    "df_cases.set_index('Country/Region', inplace=True)\n",
    "df_cases = df_cases.loc['Nigeria']\n",
    "df_cases = pd.DataFrame(df_cases)\n",
    "df_cases.columns = ['Cases']"
   ]
  },
  {
   "cell_type": "code",
   "execution_count": 300,
   "metadata": {},
   "outputs": [],
   "source": [
    "# Extract recoveries data for Nigeria\n",
    "df_recovs.drop(['Province/State', 'Lat', 'Long'], axis=1, inplace=True)\n",
    "df_recovs.set_index('Country/Region', inplace=True)\n",
    "df_recovs = df_recovs.loc['Nigeria']\n",
    "df_recovs = pd.DataFrame(df_recovs)\n",
    "df_recovs.columns = ['Recoveries']"
   ]
  },
  {
   "cell_type": "code",
   "execution_count": 301,
   "metadata": {},
   "outputs": [],
   "source": [
    "# Extract death data for Nigeria\n",
    "df_deaths.drop(['Province/State', 'Lat', 'Long'], axis=1, inplace=True)\n",
    "df_deaths.set_index('Country/Region', inplace=True)\n",
    "df_deaths = df_deaths.loc['Nigeria']\n",
    "df_deaths = pd.DataFrame(df_deaths)\n",
    "df_deaths.columns = ['Deaths']"
   ]
  },
  {
   "cell_type": "code",
   "execution_count": 302,
   "metadata": {},
   "outputs": [],
   "source": [
    "# Merge cases, recoveriies and death data into one data frame\n",
    "time_series = pd.concat([df_cases, df_recovs, df_deaths], axis=1, ignore_index=False)"
   ]
  },
  {
   "cell_type": "code",
   "execution_count": 303,
   "metadata": {},
   "outputs": [],
   "source": [
    "# Rename columns\n",
    "time_series.reset_index(inplace=True)\n",
    "time_series.columns = ['Time', 'Cases', 'Recoveries', 'Deaths']"
   ]
  },
  {
   "cell_type": "code",
   "execution_count": 305,
   "metadata": {},
   "outputs": [],
   "source": [
    "# Set time column type to datetime\n",
    "\n",
    "#date = pd.date_range(\"1 22 2020\", periods=time_series.shape[0], freq=\"D\", name=\"date\")\n",
    "time_series['Time'] = pd.to_datetime(time_series['Time'], errors='coerce')"
   ]
  },
  {
   "cell_type": "code",
   "execution_count": 306,
   "metadata": {},
   "outputs": [],
   "source": [
    "# Make time column index of the data frame\n",
    "time_series.set_index('Time', inplace=True)"
   ]
  },
  {
   "cell_type": "code",
   "execution_count": 307,
   "metadata": {},
   "outputs": [
    {
     "data": {
      "text/html": [
       "<div>\n",
       "<style scoped>\n",
       "    .dataframe tbody tr th:only-of-type {\n",
       "        vertical-align: middle;\n",
       "    }\n",
       "\n",
       "    .dataframe tbody tr th {\n",
       "        vertical-align: top;\n",
       "    }\n",
       "\n",
       "    .dataframe thead th {\n",
       "        text-align: right;\n",
       "    }\n",
       "</style>\n",
       "<table border=\"1\" class=\"dataframe\">\n",
       "  <thead>\n",
       "    <tr style=\"text-align: right;\">\n",
       "      <th></th>\n",
       "      <th>Cases</th>\n",
       "      <th>Recoveries</th>\n",
       "      <th>Deaths</th>\n",
       "    </tr>\n",
       "    <tr>\n",
       "      <th>Time</th>\n",
       "      <th></th>\n",
       "      <th></th>\n",
       "      <th></th>\n",
       "    </tr>\n",
       "  </thead>\n",
       "  <tbody>\n",
       "    <tr>\n",
       "      <th>2020-01-22</th>\n",
       "      <td>0</td>\n",
       "      <td>0</td>\n",
       "      <td>0</td>\n",
       "    </tr>\n",
       "    <tr>\n",
       "      <th>2020-01-23</th>\n",
       "      <td>0</td>\n",
       "      <td>0</td>\n",
       "      <td>0</td>\n",
       "    </tr>\n",
       "    <tr>\n",
       "      <th>2020-01-24</th>\n",
       "      <td>0</td>\n",
       "      <td>0</td>\n",
       "      <td>0</td>\n",
       "    </tr>\n",
       "    <tr>\n",
       "      <th>2020-01-25</th>\n",
       "      <td>0</td>\n",
       "      <td>0</td>\n",
       "      <td>0</td>\n",
       "    </tr>\n",
       "    <tr>\n",
       "      <th>2020-01-26</th>\n",
       "      <td>0</td>\n",
       "      <td>0</td>\n",
       "      <td>0</td>\n",
       "    </tr>\n",
       "  </tbody>\n",
       "</table>\n",
       "</div>"
      ],
      "text/plain": [
       "            Cases  Recoveries  Deaths\n",
       "Time                                 \n",
       "2020-01-22      0           0       0\n",
       "2020-01-23      0           0       0\n",
       "2020-01-24      0           0       0\n",
       "2020-01-25      0           0       0\n",
       "2020-01-26      0           0       0"
      ]
     },
     "execution_count": 307,
     "metadata": {},
     "output_type": "execute_result"
    }
   ],
   "source": [
    "time_series.head()"
   ]
  },
  {
   "cell_type": "code",
   "execution_count": 310,
   "metadata": {},
   "outputs": [],
   "source": [
    "# Export time series data to csv\n",
    "time_series.to_csv('time_series.csv')"
   ]
  },
  {
   "cell_type": "code",
   "execution_count": 308,
   "metadata": {},
   "outputs": [],
   "source": [
    "# Import libraries for plotting\n",
    "import seaborn as sns\n",
    "from jupyterthemes import jtplot"
   ]
  },
  {
   "cell_type": "code",
   "execution_count": 325,
   "metadata": {},
   "outputs": [
    {
     "data": {
      "text/plain": [
       "Text(0.5, 0, 'Time')"
      ]
     },
     "execution_count": 325,
     "metadata": {},
     "output_type": "execute_result"
    },
    {
     "data": {
      "image/png": "[encoded data removed]",
      "text/plain": [
       "<Figure size 720x432 with 1 Axes>"
      ]
     },
     "metadata": {
      "needs_background": "light"
     },
     "output_type": "display_data"
    }
   ],
   "source": [
    "#context: 'paper' (Default), 'notebook', 'talk', or 'poster'\n",
    "#theme: 'oceans16', 'grade3', 'chesterish', 'onedork', 'monokai', 'solarizedl', 'solarizedd'\n",
    "#jtplot.style(theme=oceans16, context='poster', grid=True, gridlines='-', ticks=True, spines=True, fscale=1.2) #figsize=(8.0, 7.0))\n",
    "fig, ax = plt.subplots(figsize=(10, 6))\n",
    "sns.lineplot(data=time_series)\n",
    "ax.set_title('Cases, Recoveries and Deaths from January till date', fontdict={'fontsize': '20', 'fontweight' : '3'}, pad=20)\n",
    "ax.set_ylabel('Counts', fontdict={'fontsize': '15', 'fontweight' : '3'})\n",
    "ax.set_xlabel('Time', fontdict={'fontsize': '15', 'fontweight' : '3'})"
   ]
  },
  {
   "cell_type": "code",
   "execution_count": null,
   "metadata": {},
   "outputs": [],
   "source": []
  }
 ],
 "metadata": {
  "kernelspec": {
   "display_name": "Python 3",
   "language": "python",
   "name": "python3"
  },
  "language_info": {
   "codemirror_mode": {
    "name": "ipython",
    "version": 3
   },
   "file_extension": ".py",
   "mimetype": "text/x-python",
   "name": "python",
   "nbconvert_exporter": "python",
   "pygments_lexer": "ipython3",
   "version": "3.7.7"
  }
 },
 "nbformat": 4,
 "nbformat_minor": 4
}
